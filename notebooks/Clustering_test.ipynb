{
 "cells": [
  {
   "cell_type": "markdown",
   "metadata": {},
   "source": [
    "# Analise Exploratória sobre CRITÉRIOS DE SIMILARIDADE - OJ\n",
    "\n",
    "* **Critério 1:** Agrupamento por Justiça + Grau + Competências (iguais)<br>\n",
    "* **Critério 2:** Agrupamento por Justiça + Competências (iguais)<br>\n",
    "* **Critério 3:** Agrupamento por Justiça, clusterização pelas competências (transformar em colunas)<br>\n",
    "\n",
    "Verificar se existe competências similares (caso exista, aplicar como pré-processamento) <br>\n",
    "* **Critério 1a:** (Pré-processar: competencia) + Agrupamento por Justiça + Grau + Competências (iguais)<br>\n",
    "* **Critério 2a:** (Pré-processar: competencia) + Agrupamento por Justiça + Competências (iguais)<br>\n",
    "* **Critério 3a:** (Pré-processar: competencia) + Agrupamento por Justiça, clusterização pelas competências (transformar em colunas)<br>\n"
   ]
  },
  {
   "cell_type": "markdown",
   "metadata": {},
   "source": [
    "## Inicialização"
   ]
  },
  {
   "cell_type": "code",
   "execution_count": null,
   "metadata": {
    "ExecuteTime": {
     "end_time": "2020-10-10T04:09:20.607908Z",
     "start_time": "2020-10-10T04:09:11.296279Z"
    }
   },
   "outputs": [],
   "source": [
    "# !pip install minisom"
   ]
  },
  {
   "cell_type": "markdown",
   "metadata": {},
   "source": [
    "### Carregamento das bilbiotecas"
   ]
  },
  {
   "cell_type": "code",
   "execution_count": null,
   "metadata": {
    "ExecuteTime": {
     "end_time": "2020-10-12T22:39:06.949439Z",
     "start_time": "2020-10-12T22:39:06.641206Z"
    }
   },
   "outputs": [],
   "source": [
    "from minisom import MiniSom\n",
    "import numpy as np\n",
    "import pandas as pd\n",
    "\n",
    "pd.set_option('display.max_rows', None)\n",
    "pd.set_option('display.max_columns', None)\n",
    "pd.set_option('display.width', 1000)\n",
    "# data = pd.read_csv('https://archive.ics.uci.edu/ml/machine-learning-databases/00236/seeds_dataset.txt', \n",
    "#                     names=['area', 'perimeter', 'compactness', 'length_kernel', 'width_kernel',\n",
    "#                    'asymmetry_coefficient', 'length_kernel_groove', 'target'], usecols=[0, 5], \n",
    "#                    sep='\\t+', engine='python')\n"
   ]
  },
  {
   "cell_type": "markdown",
   "metadata": {},
   "source": [
    "### Carregamento dos dados"
   ]
  },
  {
   "cell_type": "code",
   "execution_count": null,
   "metadata": {
    "ExecuteTime": {
     "end_time": "2020-10-12T22:39:15.998840Z",
     "start_time": "2020-10-12T22:39:09.733976Z"
    }
   },
   "outputs": [],
   "source": [
    "df_variaveis    = pd.read_csv('../data/raw/Variaveis_25-Ago-2020.csv', sep=';', encoding='ISO-8859-1')\n",
    "df_classes      = pd.read_csv('../data/raw/sgt_classes.csv', sep=';')\n",
    "df_dadosbasicos = pd.read_csv('../data/raw/df_dadosbasicos_justica_estadual.csv', sep=',')\n",
    "df_serventias   = pd.read_csv('../data/raw/mpm_serventias.csv', sep=';')"
   ]
  },
  {
   "cell_type": "markdown",
   "metadata": {},
   "source": [
    "### Limpeza geral dos dados"
   ]
  },
  {
   "cell_type": "code",
   "execution_count": null,
   "metadata": {
    "ExecuteTime": {
     "end_time": "2020-10-12T22:53:03.368458Z",
     "start_time": "2020-10-12T22:53:02.754269Z"
    }
   },
   "outputs": [],
   "source": [
    "# Levar em consideracao somente as varas que tenham competencia\n",
    "df_tem_competencia = df_dadosbasicos[df_dadosbasicos['dadosBasicos.competencia'].notna()]\n",
    "df_tem_competencia = df_tem_competencia[df_tem_competencia['dadosBasicos.orgaoJulgador.nomeOrgao'].notna()]\n",
    "\n",
    "# df_tem_competencia['dadosBasicos.dataAjuizamento'] = pd.to_datetime(df_tem_competencia['dadosBasicos.dataAjuizamento'])\n",
    "# Fitlrar apenas os processos distribuidos no ano de 2019 e 2020 (competencias mais recentes): so tem 1970. 1969\n",
    "# df_tem_competencia['year'] = pd.DatetimeIndex(df_tem_competencia['dadosBasicos.dataAjuizamento']).year\n",
    "# df_tem_competencia_recente = df_tem_competencia[df_tem_competencia['year'].isin(['2019','2020'])]"
   ]
  },
  {
   "cell_type": "code",
   "execution_count": null,
   "metadata": {
    "ExecuteTime": {
     "end_time": "2020-10-12T22:53:35.059982Z",
     "start_time": "2020-10-12T22:53:34.906342Z"
    }
   },
   "outputs": [],
   "source": [
    "print(df_tem_competencia.columns)\n",
    "df_tem_competencia.head()"
   ]
  },
  {
   "cell_type": "markdown",
   "metadata": {},
   "source": [
    "## Critério 1: Agrupamento por Justiça + Grau + Competências (iguais"
   ]
  },
  {
   "cell_type": "markdown",
   "metadata": {},
   "source": [
    "### Tratamento dos dados"
   ]
  },
  {
   "cell_type": "code",
   "execution_count": null,
   "metadata": {
    "ExecuteTime": {
     "end_time": "2020-10-12T22:55:15.459859Z",
     "start_time": "2020-10-12T22:53:46.047Z"
    }
   },
   "outputs": [],
   "source": [
    "df_grupo_jgc = df_tem_competencia[['dadosBasicos.orgaoJulgador.nomeOrgao','grau','dadosBasicos.competencia']]\n",
    "df_grupo_jgc.drop_duplicates(subset=['dadosBasicos.orgaoJulgador.nomeOrgao','grau','dadosBasicos.competencia'], keep = 'first', inplace = True)\n",
    "df_grupo_jgc.head()\n",
    "# df_grupo_jgc = df_tem_competencia.groupby(['dadosBasicos.orgaoJulgador.nomeOrgao','grau','dadosBasicos.competencia'])"
   ]
  },
  {
   "cell_type": "code",
   "execution_count": null,
   "metadata": {},
   "outputs": [],
   "source": [
    "df_grupo_jgc.groups"
   ]
  },
  {
   "cell_type": "code",
   "execution_count": null,
   "metadata": {
    "ExecuteTime": {
     "end_time": "2020-10-12T22:34:29.420683Z",
     "start_time": "2020-10-12T22:32:42.434Z"
    }
   },
   "outputs": [],
   "source": [
    "df_grupo_jgc.groupby(['dadosBasicos.orgaoJulgador.nomeOrgao','grau']).count(dadosBasicos.competencia)"
   ]
  },
  {
   "cell_type": "code",
   "execution_count": null,
   "metadata": {},
   "outputs": [],
   "source": []
  },
  {
   "cell_type": "code",
   "execution_count": null,
   "metadata": {},
   "outputs": [],
   "source": []
  },
  {
   "cell_type": "markdown",
   "metadata": {},
   "source": [
    "## Critério 2: Agrupamento por Justiça + Competências (iguais)"
   ]
  },
  {
   "cell_type": "markdown",
   "metadata": {},
   "source": [
    "### Tratamento dos dados"
   ]
  },
  {
   "cell_type": "code",
   "execution_count": null,
   "metadata": {},
   "outputs": [],
   "source": [
    "df_grupo_jc = df_tem_competencia[['dadosBasicos.orgaoJulgador.nomeOrgao','dadosBasicos.competencia']]\n",
    "df_grupo_jc.drop_duplicates(subset=['dadosBasicos.orgaoJulgador.nomeOrgao','dadosBasicos.competencia'], keep = 'first', inplace = True)\n",
    "df_grupo_jc.head()"
   ]
  },
  {
   "cell_type": "code",
   "execution_count": null,
   "metadata": {},
   "outputs": [],
   "source": []
  },
  {
   "cell_type": "code",
   "execution_count": null,
   "metadata": {},
   "outputs": [],
   "source": []
  },
  {
   "cell_type": "markdown",
   "metadata": {},
   "source": [
    "### Identificar as competências por vara"
   ]
  },
  {
   "cell_type": "code",
   "execution_count": null,
   "metadata": {
    "ExecuteTime": {
     "end_time": "2020-10-12T22:34:29.420683Z",
     "start_time": "2020-10-12T22:33:52.613Z"
    }
   },
   "outputs": [],
   "source": [
    "df_competencias_agrupadas = df_tem_competencia[['dadosBasicos.orgaoJulgador.nomeOrgao','dadosBasicos.competencia']]\n",
    "df_competencias_agrupadas.drop_duplicates(subset=['dadosBasicos.orgaoJulgador.nomeOrgao','dadosBasicos.competencia'], keep = 'first', inplace = True)\n",
    "df_competencias_agrupadas['dadosBasicos.competencia'] = df_competencias_agrupadas['dadosBasicos.competencia'].fillna(' ')\n",
    "df_competencias_agrupadas"
   ]
  },
  {
   "cell_type": "code",
   "execution_count": null,
   "metadata": {
    "ExecuteTime": {
     "end_time": "2020-10-12T16:07:16.292939Z",
     "start_time": "2020-10-12T16:07:16.256039Z"
    }
   },
   "outputs": [],
   "source": [
    "df_tem_competencia.head()"
   ]
  },
  {
   "cell_type": "code",
   "execution_count": null,
   "metadata": {
    "ExecuteTime": {
     "end_time": "2020-10-12T16:18:13.878323Z",
     "start_time": "2020-10-12T16:18:13.836434Z"
    }
   },
   "outputs": [],
   "source": [
    "df_competencias_agrupadas[df_competencias_agrupadas['dadosBasicos.orgaoJulgador.nomeOrgao']=='DIRETORIA DO FORO DA COMARCA DE ARCOVERDE']"
   ]
  },
  {
   "cell_type": "code",
   "execution_count": null,
   "metadata": {
    "ExecuteTime": {
     "end_time": "2020-10-12T16:10:10.796454Z",
     "start_time": "2020-10-12T16:10:10.790469Z"
    }
   },
   "outputs": [],
   "source": [
    "len(df_competencias_agrupadas['dadosBasicos.competencia'].unique())"
   ]
  },
  {
   "cell_type": "code",
   "execution_count": null,
   "metadata": {
    "ExecuteTime": {
     "end_time": "2020-10-12T16:17:44.655549Z",
     "start_time": "2020-10-12T16:17:44.177826Z"
    }
   },
   "outputs": [],
   "source": [
    "df_competencias_agrupadas = df_competencias_agrupadas.pivot(index='dadosBasicos.orgaoJulgador.nomeOrgao', values='dadosBasicos.competencia', columns='dadosBasicos.competencia')"
   ]
  },
  {
   "cell_type": "code",
   "execution_count": null,
   "metadata": {
    "ExecuteTime": {
     "end_time": "2020-10-12T16:12:58.527240Z",
     "start_time": "2020-10-12T16:12:57.951773Z"
    }
   },
   "outputs": [],
   "source": [
    "df_competencias_agrupadas.to_csv('../data/interim/df_competencias_agrupadas.csv',sep=';')"
   ]
  },
  {
   "cell_type": "code",
   "execution_count": null,
   "metadata": {
    "ExecuteTime": {
     "end_time": "2020-10-12T16:17:48.746007Z",
     "start_time": "2020-10-12T16:17:48.383988Z"
    }
   },
   "outputs": [],
   "source": [
    "df_competencias_agrupadas"
   ]
  },
  {
   "cell_type": "code",
   "execution_count": null,
   "metadata": {
    "ExecuteTime": {
     "end_time": "2020-10-12T15:50:33.360723Z",
     "start_time": "2020-10-12T15:50:33.305895Z"
    }
   },
   "outputs": [],
   "source": [
    "df_competencias_agrupadas[df_competencias_agrupadas['dadosBasicos.orgaoJulgador.nomeOrgao']=='AMPARO DO SÃO FRANCISCO']"
   ]
  },
  {
   "cell_type": "code",
   "execution_count": null,
   "metadata": {
    "ExecuteTime": {
     "end_time": "2020-10-12T15:27:13.002678Z",
     "start_time": "2020-10-12T15:27:12.972757Z"
    }
   },
   "outputs": [],
   "source": [
    "df_tem_competencia.pivot(index='dadosBasicos.orgaoJulgador.nomeOrgao', aggfunc='count', columns='dadosBasicos.competencia',values='dadosBasicos.competencia')"
   ]
  },
  {
   "cell_type": "code",
   "execution_count": null,
   "metadata": {},
   "outputs": [],
   "source": [
    "df_tem"
   ]
  },
  {
   "cell_type": "code",
   "execution_count": null,
   "metadata": {
    "ExecuteTime": {
     "end_time": "2020-10-12T02:54:01.108358Z",
     "start_time": "2020-10-12T02:54:01.100329Z"
    }
   },
   "outputs": [],
   "source": [
    "dd = df_tem_competencia.groupby(['dadosBasicos.orgaoJulgador.nomeOrgao'])"
   ]
  },
  {
   "cell_type": "code",
   "execution_count": null,
   "metadata": {
    "ExecuteTime": {
     "end_time": "2020-10-12T02:54:23.751140Z",
     "start_time": "2020-10-12T02:54:23.744159Z"
    }
   },
   "outputs": [],
   "source": [
    "dd.get_group(('2ª VARA CIVEL DA COMARCA DE FORTALEZA'))['dadosBasicos.competencia'].unique()"
   ]
  },
  {
   "cell_type": "code",
   "execution_count": null,
   "metadata": {
    "ExecuteTime": {
     "end_time": "2020-10-12T02:52:16.837268Z",
     "start_time": "2020-10-12T02:52:12.787349Z"
    }
   },
   "outputs": [],
   "source": [
    "dd.groups"
   ]
  },
  {
   "cell_type": "code",
   "execution_count": null,
   "metadata": {
    "ExecuteTime": {
     "end_time": "2020-10-12T02:50:33.691627Z",
     "start_time": "2020-10-12T02:50:33.676010Z"
    }
   },
   "outputs": [],
   "source": [
    "dd.sort_values()"
   ]
  },
  {
   "cell_type": "code",
   "execution_count": null,
   "metadata": {
    "ExecuteTime": {
     "end_time": "2020-10-12T02:10:58.429027Z",
     "start_time": "2020-10-12T02:10:57.611092Z"
    }
   },
   "outputs": [],
   "source": [
    "df_dadosbasicos.groupby(['dadosBasicos.competencia'])['dadosBasicos.orgaoJulgador.nomeOrgao'].value_counts().head(100)"
   ]
  },
  {
   "cell_type": "code",
   "execution_count": null,
   "metadata": {},
   "outputs": [],
   "source": []
  },
  {
   "cell_type": "code",
   "execution_count": null,
   "metadata": {
    "ExecuteTime": {
     "end_time": "2020-10-10T04:10:10.149055Z",
     "start_time": "2020-10-10T04:10:10.117853Z"
    }
   },
   "outputs": [],
   "source": [
    "data"
   ]
  },
  {
   "cell_type": "code",
   "execution_count": null,
   "metadata": {
    "ExecuteTime": {
     "end_time": "2020-10-10T04:10:39.799071Z",
     "start_time": "2020-10-10T04:10:39.780930Z"
    }
   },
   "outputs": [],
   "source": [
    "# data normalization\n",
    "data = (data - np.mean(data, axis=0)) / np.std(data, axis=0)\n",
    "data = data.values"
   ]
  },
  {
   "cell_type": "code",
   "execution_count": null,
   "metadata": {
    "ExecuteTime": {
     "end_time": "2020-10-10T04:10:42.923000Z",
     "start_time": "2020-10-10T04:10:42.897304Z"
    }
   },
   "outputs": [],
   "source": [
    "data"
   ]
  },
  {
   "cell_type": "code",
   "execution_count": null,
   "metadata": {
    "ExecuteTime": {
     "end_time": "2020-10-10T04:10:48.441632Z",
     "start_time": "2020-10-10T04:10:48.344575Z"
    }
   },
   "outputs": [],
   "source": [
    "# Initialization and training\n",
    "som_shape = (1, 3)\n",
    "som = MiniSom(som_shape[0], som_shape[1], data.shape[1], sigma=.5, learning_rate=.5,\n",
    "              neighborhood_function='gaussian', random_seed=10)\n",
    "\n",
    "som.train_batch(data, 500, verbose=True)"
   ]
  },
  {
   "cell_type": "code",
   "execution_count": null,
   "metadata": {
    "ExecuteTime": {
     "end_time": "2020-10-10T04:11:18.687833Z",
     "start_time": "2020-10-10T04:11:18.656584Z"
    }
   },
   "outputs": [],
   "source": [
    "# each neuron represents a cluster\n",
    "winner_coordinates = np.array([som.winner(x) for x in data]).T\n",
    "# with np.ravel_multi_index we convert the bidimensional\n",
    "# coordinates to a monodimensional index\n",
    "cluster_index = np.ravel_multi_index(winner_coordinates, som_shape)"
   ]
  },
  {
   "cell_type": "code",
   "execution_count": null,
   "metadata": {
    "ExecuteTime": {
     "end_time": "2020-10-10T04:11:37.268198Z",
     "start_time": "2020-10-10T04:11:36.651082Z"
    }
   },
   "outputs": [],
   "source": [
    "import matplotlib.pyplot as plt\n",
    "%matplotlib inline\n",
    "\n",
    "# plotting the clusters using the first 2 dimentions of the data\n",
    "for c in np.unique(cluster_index):\n",
    "    plt.scatter(data[cluster_index == c, 0],\n",
    "                data[cluster_index == c, 1], label='cluster='+str(c), alpha=.7)\n",
    "\n",
    "# plotting centroids\n",
    "for centroid in som.get_weights():\n",
    "    plt.scatter(centroid[:, 0], centroid[:, 1], marker='x', \n",
    "                s=80, linewidths=35, color='k', label='centroid')\n",
    "plt.legend();"
   ]
  },
  {
   "cell_type": "code",
   "execution_count": null,
   "metadata": {
    "ExecuteTime": {
     "end_time": "2020-10-10T04:15:49.421035Z",
     "start_time": "2020-10-10T04:15:47.587278Z"
    }
   },
   "outputs": [],
   "source": [
    "from numpy import unique\n",
    "from numpy import where\n",
    "from sklearn.datasets import make_classification\n",
    "from sklearn.cluster import AffinityPropagation\n",
    "from matplotlib import pyplot\n",
    "# define dataset"
   ]
  },
  {
   "cell_type": "code",
   "execution_count": null,
   "metadata": {
    "ExecuteTime": {
     "end_time": "2020-10-10T04:18:56.957131Z",
     "start_time": "2020-10-10T04:18:56.582187Z"
    }
   },
   "outputs": [],
   "source": [
    "# X, _ = make_classification(n_samples=1000, n_features=2, n_informative=2, n_redundant=0, n_clusters_per_class=1, random_state=4)\n",
    "# define the model\n",
    "model = AffinityPropagation(damping=0.9)\n",
    "# fit the model\n",
    "model.fit(data)\n",
    "# assign a cluster to each example\n",
    "yhat = model.predict(data)\n",
    "# retrieve unique clusters\n",
    "clusters = unique(yhat)\n",
    "# create scatter plot for samples from each cluster\n",
    "for cluster in clusters:\n",
    "    # get row indexes for samples with this cluster\n",
    "    row_ix = where(yhat == cluster)\n",
    "    # create scatter of these samples\n",
    "    pyplot.scatter(data[row_ix, 0], data[row_ix, 1])\n",
    "# show the plot\n",
    "pyplot.show()"
   ]
  },
  {
   "cell_type": "code",
   "execution_count": null,
   "metadata": {
    "ExecuteTime": {
     "end_time": "2020-10-10T04:20:41.285989Z",
     "start_time": "2020-10-10T04:20:41.096253Z"
    }
   },
   "outputs": [],
   "source": [
    "# agglomerative clustering\n",
    "from numpy import unique\n",
    "from numpy import where\n",
    "from sklearn.datasets import make_classification\n",
    "from sklearn.cluster import AgglomerativeClustering\n",
    "from matplotlib import pyplot\n",
    "# define dataset\n",
    "# define the model\n",
    "model = AgglomerativeClustering(n_clusters=3)\n",
    "# fit model and predict clusters\n",
    "yhat = model.fit_predict(data)\n",
    "# retrieve unique clusters\n",
    "clusters = unique(yhat)\n",
    "# create scatter plot for samples from each cluster\n",
    "for cluster in clusters:\n",
    "    # get row indexes for samples with this cluster\n",
    "    row_ix = where(yhat == cluster)\n",
    "    # create scatter of these samples\n",
    "    pyplot.scatter(data[row_ix, 0], data[row_ix, 1])\n",
    "# show the plot\n",
    "pyplot.show()"
   ]
  },
  {
   "cell_type": "code",
   "execution_count": null,
   "metadata": {
    "ExecuteTime": {
     "end_time": "2020-10-10T04:22:05.773532Z",
     "start_time": "2020-10-10T04:22:05.513515Z"
    }
   },
   "outputs": [],
   "source": [
    "# birch clustering\n",
    "from numpy import unique\n",
    "from numpy import where\n",
    "from sklearn.datasets import make_classification\n",
    "from sklearn.cluster import Birch\n",
    "from matplotlib import pyplot\n",
    "# define dataset\n",
    "# define the model\n",
    "model = Birch(threshold=0.01, n_clusters=3)\n",
    "# fit the model\n",
    "model.fit(data)\n",
    "# assign a cluster to each example\n",
    "yhat = model.predict(data)\n",
    "# retrieve unique clusters\n",
    "clusters = unique(yhat)\n",
    "# create scatter plot for samples from each cluster\n",
    "for cluster in clusters:\n",
    "    # get row indexes for samples with this cluster\n",
    "    row_ix = where(yhat == cluster)\n",
    "    # create scatter of these samples\n",
    "    pyplot.scatter(data[row_ix, 0], data[row_ix, 1])\n",
    "# show the plot\n",
    "pyplot.show()"
   ]
  },
  {
   "cell_type": "code",
   "execution_count": null,
   "metadata": {
    "ExecuteTime": {
     "end_time": "2020-10-10T04:23:12.035770Z",
     "start_time": "2020-10-10T04:23:11.850489Z"
    }
   },
   "outputs": [],
   "source": [
    "from numpy import unique\n",
    "from numpy import where\n",
    "from sklearn.datasets import make_classification\n",
    "from sklearn.cluster import DBSCAN\n",
    "from matplotlib import pyplot\n",
    "# define dataset\n",
    "# define the model\n",
    "model = DBSCAN(eps=0.30, min_samples=9)\n",
    "# fit model and predict clusters\n",
    "yhat = model.fit_predict(data)\n",
    "# retrieve unique clusters\n",
    "clusters = unique(yhat)\n",
    "# create scatter plot for samples from each cluster\n",
    "for cluster in clusters:\n",
    "    # get row indexes for samples with this cluster\n",
    "    row_ix = where(yhat == cluster)\n",
    "    # create scatter of these samples\n",
    "    pyplot.scatter(data[row_ix, 0], data[row_ix, 1])\n",
    "# show the plot\n",
    "pyplot.show()"
   ]
  },
  {
   "cell_type": "code",
   "execution_count": null,
   "metadata": {
    "ExecuteTime": {
     "end_time": "2020-10-10T04:25:02.270786Z",
     "start_time": "2020-10-10T04:25:02.019433Z"
    }
   },
   "outputs": [],
   "source": [
    "from numpy import unique\n",
    "from numpy import where\n",
    "from sklearn.datasets import make_classification\n",
    "from sklearn.cluster import MiniBatchKMeans\n",
    "from matplotlib import pyplot\n",
    "# define dataset\n",
    "# define the model\n",
    "model = MiniBatchKMeans(n_clusters=3)\n",
    "# fit the model\n",
    "model.fit(data)\n",
    "# assign a cluster to each example\n",
    "yhat = model.predict(data)\n",
    "# retrieve unique clusters\n",
    "clusters = unique(yhat)\n",
    "# create scatter plot for samples from each cluster\n",
    "for cluster in clusters:\n",
    "    # get row indexes for samples with this cluster\n",
    "    row_ix = where(yhat == cluster)\n",
    "    # create scatter of these samples\n",
    "    pyplot.scatter(data[row_ix, 0], data[row_ix, 1])\n",
    "# show the plot\n",
    "pyplot.show()"
   ]
  },
  {
   "cell_type": "code",
   "execution_count": null,
   "metadata": {
    "ExecuteTime": {
     "end_time": "2020-10-10T04:26:01.062269Z",
     "start_time": "2020-10-10T04:25:59.336033Z"
    }
   },
   "outputs": [],
   "source": [
    "# mean shift clustering\n",
    "from numpy import unique\n",
    "from numpy import where\n",
    "from sklearn.datasets import make_classification\n",
    "from sklearn.cluster import MeanShift\n",
    "from matplotlib import pyplot\n",
    "# define dataset\n",
    "# define the model\n",
    "model = MeanShift()\n",
    "# fit model and predict clusters\n",
    "yhat = model.fit_predict(data)\n",
    "# retrieve unique clusters\n",
    "clusters = unique(yhat)\n",
    "# create scatter plot for samples from each cluster\n",
    "for cluster in clusters:\n",
    "    # get row indexes for samples with this cluster\n",
    "    row_ix = where(yhat == cluster)\n",
    "    # create scatter of these samples\n",
    "    pyplot.scatter(data[row_ix, 0], data[row_ix, 1])\n",
    "# show the plot\n",
    "pyplot.show()"
   ]
  },
  {
   "cell_type": "code",
   "execution_count": null,
   "metadata": {
    "ExecuteTime": {
     "end_time": "2020-10-10T04:27:15.312663Z",
     "start_time": "2020-10-10T04:27:14.902055Z"
    }
   },
   "outputs": [],
   "source": [
    "# optics clustering\n",
    "from numpy import unique\n",
    "from numpy import where\n",
    "from sklearn.datasets import make_classification\n",
    "from sklearn.cluster import OPTICS\n",
    "from matplotlib import pyplot\n",
    "# define dataset\n",
    "# define the model\n",
    "model = OPTICS(eps=0.8, min_samples=10)\n",
    "# fit model and predict clusters\n",
    "yhat = model.fit_predict(data)\n",
    "# retrieve unique clusters\n",
    "clusters = unique(yhat)\n",
    "# create scatter plot for samples from each cluster\n",
    "for cluster in clusters:\n",
    "    # get row indexes for samples with this cluster\n",
    "    row_ix = where(yhat == cluster)\n",
    "    # create scatter of these samples\n",
    "    pyplot.scatter(data[row_ix, 0], data[row_ix, 1])\n",
    "# show the plot\n",
    "pyplot.show()"
   ]
  },
  {
   "cell_type": "code",
   "execution_count": null,
   "metadata": {},
   "outputs": [],
   "source": []
  }
 ],
 "metadata": {
  "kernelspec": {
   "display_name": "Python 3",
   "language": "python",
   "name": "python3"
  },
  "language_info": {
   "codemirror_mode": {
    "name": "ipython",
    "version": 3
   },
   "file_extension": ".py",
   "mimetype": "text/x-python",
   "name": "python",
   "nbconvert_exporter": "python",
   "pygments_lexer": "ipython3",
   "version": "3.7.6"
  },
  "toc": {
   "base_numbering": 1,
   "nav_menu": {},
   "number_sections": true,
   "sideBar": true,
   "skip_h1_title": false,
   "title_cell": "Table of Contents",
   "title_sidebar": "Contents",
   "toc_cell": false,
   "toc_position": {
    "height": "calc(100% - 180px)",
    "left": "10px",
    "top": "150px",
    "width": "273.2px"
   },
   "toc_section_display": true,
   "toc_window_display": true
  },
  "varInspector": {
   "cols": {
    "lenName": 16,
    "lenType": 16,
    "lenVar": 40
   },
   "kernels_config": {
    "python": {
     "delete_cmd_postfix": "",
     "delete_cmd_prefix": "del ",
     "library": "var_list.py",
     "varRefreshCmd": "print(var_dic_list())"
    },
    "r": {
     "delete_cmd_postfix": ") ",
     "delete_cmd_prefix": "rm(",
     "library": "var_list.r",
     "varRefreshCmd": "cat(var_dic_list()) "
    }
   },
   "types_to_exclude": [
    "module",
    "function",
    "builtin_function_or_method",
    "instance",
    "_Feature"
   ],
   "window_display": false
  }
 },
 "nbformat": 4,
 "nbformat_minor": 4
}
